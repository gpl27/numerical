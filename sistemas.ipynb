{
 "cells": [
  {
   "cell_type": "markdown",
   "id": "49d38509",
   "metadata": {},
   "source": [
    "# Solução de Sistemas Lineares e Não-lineares\n",
    "Nesse notebook iremos apresentar métodos para a solução de sistemas de equações lineares e não lineares. Ou seja, o problema de encontrar $x$ tal que $Ax = b$\n",
    "\n",
    "Um sistema linear pode ser resolvido por métodos diretos e por métodos iterativos. Um método é direto quando uma solução exata é obtida realizando-se um número finito de operações aritméticas. Um método é iterativo quando a solução é obtida a partir de aproximações sucessivas."
   ]
  },
  {
   "cell_type": "code",
   "execution_count": 1,
   "id": "13e84d73",
   "metadata": {},
   "outputs": [
    {
     "name": "stdout",
     "output_type": "stream",
     "text": [
      "\u001b[4l\u001b[0m\n",
      "\u001b[0m\u001b[4l\u001b[0m\n",
      "\u001b[0m"
     ]
    }
   ],
   "source": [
    "// Algumas configurações\n",
    "funcprot(0); // Permitir redefinição de funções"
   ]
  },
  {
   "cell_type": "markdown",
   "id": "32cdda08",
   "metadata": {},
   "source": [
    "## Métodos Diretos\n",
    "### Eliminação Gaussiana\n"
   ]
  }
 ],
 "metadata": {
  "kernelspec": {
   "display_name": "Scilab",
   "language": "scilab",
   "name": "scilab"
  },
  "language_info": {
   "file_extension": ".sci",
   "help_links": [
    {
     "text": "MetaKernel Magics",
     "url": "https://metakernel.readthedocs.io/en/latest/source/README.html"
    }
   ],
   "mimetype": "text/x-octave",
   "name": "octave",
   "version": "0.9.10"
  }
 },
 "nbformat": 4,
 "nbformat_minor": 5
}
