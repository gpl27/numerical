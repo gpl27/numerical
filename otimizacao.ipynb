{
 "cells": [
  {
   "cell_type": "code",
   "execution_count": null,
   "id": "d574d1a4",
   "metadata": {},
   "outputs": [],
   "source": [
    "function [r] = aurea(f, a, b, TOL)\n",
    "    phi = (1+sqrt(5))/2;\n",
    "    L = b - a;\n",
    "    while L > TOL\n",
    "        atil = b - L/phi; btil = a + L/phi;\n",
    "        fatil = f(atil); fbtil = f(btil);\n",
    "        if fatil < fbtil\n",
    "            b = btil;\n",
    "        elseif fatil > fbtil\n",
    "            a = atil;\n",
    "        else\n",
    "            a = atil; b = btil;\n",
    "        end\n",
    "        L = b - a;\n",
    "    end\n",
    "    minimizador = (a + b)/2;\n",
    "    r = return([a, b])\n",
    "endfunction"
   ]
  }
 ],
 "metadata": {
  "kernelspec": {
   "display_name": "Scilab",
   "language": "scilab",
   "name": "scilab"
  },
  "language_info": {
   "file_extension": ".sci",
   "help_links": [
    {
     "text": "MetaKernel Magics",
     "url": "https://metakernel.readthedocs.io/en/latest/source/README.html"
    }
   ],
   "mimetype": "text/x-octave",
   "name": "octave",
   "version": "0.9.10"
  }
 },
 "nbformat": 4,
 "nbformat_minor": 5
}
