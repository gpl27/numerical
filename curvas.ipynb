{
 "cells": [
  {
   "cell_type": "markdown",
   "id": "43a39c5c",
   "metadata": {},
   "source": [
    "# Ajuste de Curvas e Interpolação\n",
    "Prefere-se, geralmente, funções de baixa ordem como retas, parábolas, cúbicas, exponenciais. Interpolação polinomial não é aconselhável quando o número de pontos que se quer interpolar é muito grando.\n",
    "\n",
    "## Método dos mínimos quadrados para domínio discreto\n",
    "disc"
   ]
  }
 ],
 "metadata": {
  "kernelspec": {
   "display_name": "Scilab",
   "language": "scilab",
   "name": "scilab"
  },
  "language_info": {
   "file_extension": ".sci",
   "help_links": [
    {
     "text": "MetaKernel Magics",
     "url": "https://metakernel.readthedocs.io/en/latest/source/README.html"
    }
   ],
   "mimetype": "text/x-octave",
   "name": "octave",
   "version": "0.9.10"
  }
 },
 "nbformat": 4,
 "nbformat_minor": 5
}
