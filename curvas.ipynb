{
 "cells": [
  {
   "cell_type": "markdown",
   "id": "43a39c5c",
   "metadata": {},
   "source": [
    "# Ajuste de Curvas e Interpolação\n",
    "Prefere-se, geralmente, funções de baixa ordem como retas, parábolas, cúbicas, exponenciais. Interpolação polinomial não é aconselhável quando o número de pontos que se quer interpolar é muito grando.\n",
    "\n",
    "## Método dos mínimos quadrados para domínio discreto\n",
    "disc\n",
    "\n",
    "## Regressao Linear\n",
    "\n",
    "## Interpolação Polinomial\n",
    "$ y = a_0 + a_1x + a_2x^2 $. Montar um sistema a partir de tres pontos"
   ]
  },
  {
   "cell_type": "markdown",
   "id": "b145f0b4",
   "metadata": {},
   "source": [
    "## Escolha de melhor função de ajuste\n",
    "São necessários alugns critérios para escolher a melhor funcao para interpolar dados.\n",
    "\n",
    "reta: $ \\cfrac{\\Delta y_i}{\\Delta x_i} \\approx$ constante\n",
    "\n",
    "parabola: $ \\cfrac{\\Delta y_i^2}{\\Delta x_i^2} \\approx$ constante\n",
    "\n",
    "cubica: $ \\cfrac{\\Delta y_i^3}{\\Delta x_i^3} \\approx$ constante\n",
    "\n",
    "exponencial: $ \\cfrac{\\Delta lny_i}{\\Delta x_i} \\approx$ constante\n",
    "\n",
    "potencia: $ \\cfrac{\\Delta lny_i}{\\Delta lnx_i} \\approx$ constante\n"
   ]
  },
  {
   "cell_type": "code",
   "execution_count": null,
   "id": "4cbc5428",
   "metadata": {},
   "outputs": [],
   "source": []
  }
 ],
 "metadata": {
  "kernelspec": {
   "display_name": "Scilab",
   "language": "scilab",
   "name": "scilab"
  },
  "language_info": {
   "file_extension": ".sci",
   "help_links": [
    {
     "text": "MetaKernel Magics",
     "url": "https://metakernel.readthedocs.io/en/latest/source/README.html"
    }
   ],
   "mimetype": "text/x-octave",
   "name": "octave",
   "version": "0.9.10"
  }
 },
 "nbformat": 4,
 "nbformat_minor": 5
}
