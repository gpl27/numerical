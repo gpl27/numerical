{
 "cells": [
  {
   "cell_type": "markdown",
   "id": "43a39c5c",
   "metadata": {},
   "source": [
    "# Ajuste de Curvas e Interpolação\n",
    "Prefere-se, geralmente, funções de baixa ordem como retas, parábolas, cúbicas, exponenciais. Interpolação polinomial não é aconselhável quando o número de pontos que se quer interpolar é muito grando.\n",
    "\n",
    "## Método dos mínimos quadrados para domínio discreto\n",
    "disc\n",
    "\n",
    "## Regressao Linear\n",
    "\n",
    "## Interpolação Polinomial\n",
    "$ y = a_0 + a_1x + a_2x^2 $. Montar um sistema a partir de tres pontos"
   ]
  },
  {
   "cell_type": "markdown",
   "id": "b145f0b4",
   "metadata": {},
   "source": [
    "## Escolha de melhor função de ajuste\n",
    "São necessários alugns critérios para escolher a melhor funcao para interpolar dados.\n",
    "\n",
    "reta: $ \\cfrac{\\Delta y_i}{\\Delta x_i} \\approx$ constante\n",
    "\n",
    "parabola: $ \\cfrac{\\Delta y_i^2}{\\Delta x_i^2} \\approx$ constante\n",
    "\n",
    "cubica: $ \\cfrac{\\Delta y_i^3}{\\Delta x_i^3} \\approx$ constante\n",
    "\n",
    "exponencial: $ \\cfrac{\\Delta lny_i}{\\Delta x_i} \\approx$ constante\n",
    "\n",
    "potencia: $ \\cfrac{\\Delta lny_i}{\\Delta lnx_i} \\approx$ constante\n"
   ]
  },
  {
   "cell_type": "code",
   "execution_count": 24,
   "id": "4cbc5428",
   "metadata": {},
   "outputs": [
    {
     "name": "stdout",
     "output_type": "stream",
     "text": [
      "\u001b[4l\u001b[0m\n",
      "\u001b[0m\u001b[4l\u001b[0m\u001b[0m\u001b[4l\u001b[0m\u001b[0m\u001b[4l\u001b[0m\u001b[0m\u001b[4l\u001b[0m\u001b[0m\u001b[4l\u001b[0m\u001b[0m\u001b[4l\u001b[0m\u001b[0m\u001b[4l\u001b[0m\u001b[0m\u001b[4l\u001b[0m\u001b[0m\u001b[4l\u001b[0m\u001b[0m\u001b[4l\u001b[0m\u001b[0m\u001b[4l\u001b[0m\u001b[0m\u001b[4l\u001b[0m\u001b[0m\u001b[4l\u001b[0m\u001b[0m\u001b[4l\u001b[0m\u001b[0m\u001b[4l\u001b[0m\u001b[0m\u001b[4l\u001b[0m\u001b[0m\u001b[4l\u001b[0m\u001b[0m\u001b[4l\u001b[0m\u001b[0m\u001b[4l\u001b[0m\n",
      "\u001b[0m\u001b[4l\u001b[0m\n",
      "\u001b[0m\u001b[4l\u001b[0m\n",
      "\u001b[0m\u001b[4l\u001b[0m\n",
      "\u001b[0m\u001b[4l\u001b[0m\n",
      "\u001b[0m\u001b[4l\u001b[0m\n",
      "   2.\n",
      "   4.\n",
      "   8.\n",
      "   16.\n",
      "\n",
      "   4.\n",
      "   9.6\n",
      "   27.428571\n",
      "   85.333333\n",
      "\n",
      "   8.\n",
      "   23.578947\n",
      "   96.864865\n",
      "   470.03279\n",
      "\n",
      "   1.\n",
      "   1.7095113\n",
      "   2.4094208\n",
      "   3.1062837\n",
      "\n",
      "   0.6931472\n",
      "   0.6931472\n",
      "   0.6931472\n",
      "   0.6931472\n",
      "\n",
      "\u001b[0m"
     ]
    }
   ],
   "source": [
    "funcprot(0);\n",
    "function melhor_ajuste(x, y)\n",
    "    for i = 1:(length(x) - 1)\n",
    "        deltax(i) = x(i+1) - x(i);\n",
    "        deltay(i) = y(i+1) - y(i);\n",
    "        deltalnx(i) = log(x(i+1)) - log(x(i));\n",
    "        deltalny(i) = log(y(i+1)) - log(y(i));\n",
    "        deltax2(i) = x(i+1)**2 - x(i)**2;\n",
    "        deltay2(i) = y(i+1)**2 - y(i)**2;\n",
    "        deltax3(i) = x(i+1)**3 - x(i)**3;\n",
    "        deltay3(i) = y(i+1)**3 - y(i)**3;\n",
    "    end\n",
    "    reta = deltay ./ deltax;\n",
    "    parab = deltay2 ./ deltax2;\n",
    "    cubica = deltay3 ./ deltax3;\n",
    "    pot = deltalny ./ deltax;\n",
    "    expon = deltalny ./ deltalnx;\n",
    "    \n",
    "    disp(reta, parab, cubica, expon, pot);\n",
    "endfunction\n",
    "x = [1, 2, 3, 4, 5];\n",
    "y = [2, 3, 4, 5, 6];\n",
    "y2 = [2, 5, 10, 17, 26];\n",
    "ypot = [2, 4, 8, 16, 32];\n",
    "melhor_ajuste(x, ypot);"
   ]
  },
  {
   "cell_type": "code",
   "execution_count": 51,
   "id": "d2a28b7e",
   "metadata": {},
   "outputs": [
    {
     "name": "stdout",
     "output_type": "stream",
     "text": [
      "\u001b[4l\u001b[0m\n",
      "\u001b[0m\u001b[4l\u001b[0m\u001b[0m\u001b[4l\u001b[0m\u001b[0m\u001b[4l\u001b[0m\u001b[0m\u001b[4l\u001b[0m\u001b[0m\u001b[4l\u001b[0m\u001b[0m\u001b[4l\u001b[0m\u001b[0m\u001b[4l\u001b[0m\u001b[0m\u001b[4l\u001b[0m\u001b[0m\u001b[4l\u001b[0m\u001b[0m\u001b[4l\u001b[0m\u001b[0m\u001b[4l\u001b[0m\u001b[0m\u001b[4l\u001b[0m\u001b[0m\u001b[4l\u001b[0m\n",
      "\u001b[0m\u001b[4l\u001b[0m\n",
      "\u001b[0m\u001b[4l\u001b[0m\n",
      "\u001b[0m\u001b[4l\u001b[0m\u001b[0m\u001b[4l\u001b[0m\u001b[0m\u001b[4l\u001b[0m\u001b[0m\u001b[4l\u001b[0m\u001b[0m\u001b[4l\u001b[0m\u001b[0m\u001b[4l\u001b[0m\u001b[0m\u001b[4l\u001b[0m\n",
      "\u001b[0m\u001b[4l\u001b[0m\n",
      "\u001b[0m\u001b[4l\u001b[0m\n",
      "\u001b[0m\u001b[4l\u001b[0m\u001b[0m\u001b[4l\u001b[0m\u001b[0m\u001b[4l\u001b[0m\u001b[0m\u001b[4l\u001b[0m\u001b[0m\u001b[4l\u001b[0m\u001b[0m\u001b[4l\u001b[0m\n",
      "\u001b[0m\u001b[4l\u001b[0m\n",
      "\u001b[0m\u001b[4l\u001b[0m\n",
      "\u001b[0m\u001b[4l\u001b[0m\n",
      "\u001b[0m\u001b[4l\u001b[0m\n",
      "\u001b[0m\u001b[4l\u001b[0m\n",
      "\u001b[0m\u001b[4l\u001b[0m\n",
      "   2.9471609\n",
      "   5.0186211\n",
      "  -2.5022372\n",
      "\n",
      "\u001b[0m\u001b[4l\u001b[0m\n",
      "\u001b[0m\u001b[4l\u001b[0m\n",
      "\u001b[0m\u001b[4l\u001b[0m\n",
      "\u001b[0m\u001b[4l\u001b[0m\n",
      "   2.6789461\n",
      "   0.7271153\n",
      "\n",
      "\u001b[0m"
     ]
    }
   ],
   "source": [
    "// y = a1*x**p + a2*x**p-1 + ... + an\n",
    "function [c] = regressao(x, y, p)\n",
    "    n = p + 1;\n",
    "    for i = 1:n\n",
    "        for j = 1:n\n",
    "            if (i == 1 && j == 1)\n",
    "                R(i, j) = length(x);\n",
    "            end\n",
    "            R(i, j) = sum(x**(i + j - 2));\n",
    "        end\n",
    "        b(i) = sum(x**(i-1) .* y);\n",
    "    end\n",
    "    c = return(inv(R)*b);\n",
    "endfunction\n",
    "\n",
    "// y = a1*e**(-a2*x)\n",
    "function [c] = regressao_exp(x, y)\n",
    "    R = [length(x), sum(x);sum(x), sum(x**2)];\n",
    "    b = [sum(log(y)); sum(x.*log(y))];\n",
    "    c = inv(R)*b;\n",
    "    c(1) = exp(c(1));\n",
    "    c = return(inv(R)*b);\n",
    "endfunction\n",
    "\n",
    "// y = a*x**b\n",
    "function [c] = regressao_pot(x, y)\n",
    "    R = [length(x), sum(log(x)); sum(log(x)), sum(log(x)**2)];\n",
    "    b = [sum(log(y)); sum(log(x).*log(y))];\n",
    "    c = return(inv(R)*b);\n",
    "endfunction\n",
    "\n",
    "x = [0, 1.2, 1.5, 1.9, 2.2, 2.5];\n",
    "y = [3, 4.5, 6, 3.6 1.04, 0.2];\n",
    "p = 2;\n",
    "x = regressao(x, y, p);\n",
    "disp(x)\n",
    "x = [0, 0.5, 1, 1.5, 2, 2.5, 3, 3.5, 4];\n",
    "y = [2, 4, 6, 11, 12, 17, 21, 33, 46];\n",
    "x = regressao_exp(x, y);\n",
    "disp(x)"
   ]
  },
  {
   "cell_type": "code",
   "execution_count": 42,
   "id": "a943be76",
   "metadata": {},
   "outputs": [
    {
     "name": "stdout",
     "output_type": "stream",
     "text": [
      "\u001b[4l\u001b[0m\n",
      "\u001b[0m\u001b[4l\u001b[0m ans  =\n",
      "\n",
      "   0.   0.6931472   1.0986123   1.3862944\n",
      "\n",
      "\u001b[0m"
     ]
    }
   ],
   "source": [
    "A = [1, 2, 3, 4];\n",
    "log(A)"
   ]
  }
 ],
 "metadata": {
  "kernelspec": {
   "display_name": "Scilab",
   "language": "scilab",
   "name": "scilab"
  },
  "language_info": {
   "file_extension": ".sci",
   "help_links": [
    {
     "text": "MetaKernel Magics",
     "url": "https://metakernel.readthedocs.io/en/latest/source/README.html"
    }
   ],
   "mimetype": "text/x-octave",
   "name": "octave",
   "version": "0.9.10"
  }
 },
 "nbformat": 4,
 "nbformat_minor": 5
}
