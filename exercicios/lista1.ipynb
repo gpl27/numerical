{
 "cells": [
  {
   "cell_type": "markdown",
   "id": "37320ce0",
   "metadata": {},
   "source": [
    "1. Represente $(-11.75)_{10}$ na base 2.\n",
    "\n",
    "    Resposta: $$\n",
    "\n",
    "2. Represente $(110011.110011)_2$ na base 10.\n",
    "\n",
    "    Resposta: $$\n",
    "\n",
    "3. Desenvolva um programa que calcula o produto de um vetor por uma matriz de tamanho 3x3"
   ]
  }
 ],
 "metadata": {
  "kernelspec": {
   "display_name": "Scilab",
   "language": "scilab",
   "name": "scilab"
  },
  "language_info": {
   "file_extension": ".sci",
   "help_links": [
    {
     "text": "MetaKernel Magics",
     "url": "https://metakernel.readthedocs.io/en/latest/source/README.html"
    }
   ],
   "mimetype": "text/x-octave",
   "name": "octave",
   "version": "0.9.10"
  }
 },
 "nbformat": 4,
 "nbformat_minor": 5
}
