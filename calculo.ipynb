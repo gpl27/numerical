{
 "cells": [
  {
   "cell_type": "code",
   "execution_count": 41,
   "id": "0232d10b",
   "metadata": {},
   "outputs": [
    {
     "name": "stdout",
     "output_type": "stream",
     "text": [
      "\u001b[4l\u001b[0m\n",
      "\u001b[0m\u001b[4l\u001b[0m\n",
      "\u001b[0m\u001b[4l\u001b[0m\n",
      "\u001b[0m\u001b[4l\u001b[0m\u001b[0m\u001b[4l\u001b[0m\u001b[0m\u001b[4l\u001b[0m\u001b[0m\u001b[4l\u001b[0m\u001b[0m\u001b[4l\u001b[0m\u001b[0m\u001b[4l\u001b[0m\u001b[0m\u001b[4l\u001b[0m\n",
      "\u001b[0m\u001b[4l\u001b[0m\n",
      "\u001b[0m\u001b[4l\u001b[0m\n",
      "\u001b[0m\u001b[4l\u001b[0m\u001b[0m\u001b[4l\u001b[0m\u001b[0m\u001b[4l\u001b[0m\u001b[0m\u001b[4l\u001b[0m\u001b[0m\u001b[4l\u001b[0m\u001b[0m\u001b[4l\u001b[0m\n",
      "\u001b[0m\u001b[4l\u001b[0m\n",
      "\u001b[0m\u001b[4l\u001b[0m\n",
      "\u001b[0m\u001b[4l\u001b[0m\n",
      "\u001b[0m\u001b[4l\u001b[0m\u001b[0m\u001b[4l\u001b[0m\u001b[0m\u001b[4l\u001b[0m\u001b[0m\u001b[4l\u001b[0m\n",
      "\u001b[0m\u001b[4l\u001b[0m\u001b[0m\u001b[4l\u001b[0m\u001b[0m\u001b[4l\u001b[0m\u001b[0m\u001b[4l\u001b[0m\n",
      "\u001b[0m\u001b[4l\u001b[0m\u001b[0m\u001b[4l\u001b[0m\u001b[0m\u001b[4l\u001b[0m\u001b[0m\u001b[4l\u001b[0m\n",
      "\u001b[0m\u001b[4l\u001b[0m\u001b[0m\u001b[4l\u001b[0m\u001b[0m\u001b[4l\u001b[0m\u001b[0m\u001b[4l\u001b[0m\n",
      "\u001b[0m\u001b[4l\u001b[0m\n",
      "\u001b[0m\u001b[4l\u001b[0m\n",
      "\u001b[0m\u001b[4l\u001b[0m\n",
      "   1.6850000\n",
      "\n",
      "\u001b[0m"
     ]
    }
   ],
   "source": [
    "funcprot(0);\n",
    "\n",
    "// Devolve fi = f([x-2h, x-h, x, x+h, x+2h]);\n",
    "function [fi] = func_para_tab(f, x, h)\n",
    "    X = (x - 2*h):h:(x + 2*h);\n",
    "    for i = 1:length(X)\n",
    "        fi(i) = f(X(i));\n",
    "    end\n",
    "    fi = return(fi);\n",
    "endfunction\n",
    "\n",
    "// Aplica f aos x\n",
    "function [fi] = calcula_pontos(f, x)\n",
    "    for i = 1:length(x)\n",
    "        fi(i) = f(x(i));\n",
    "    end\n",
    "    fi = return(fi);\n",
    "endfunction\n",
    "\n",
    "// O(h**2)\n",
    "// Recebe f = [..., x-2h, x-h, x, x+h, x+2h, ...];\n",
    "function [c] = derivada1(f, h)\n",
    "    m = ceil(length(f)/2);\n",
    "    c = return((f(m+1) - f(m-1))/(2*h));\n",
    "endfunction\n",
    "function [c] = derivada2(f, h)\n",
    "    m = ceil(length(f)/2);\n",
    "    c = return((f(m+1) - 2*f(m) + f(m-1))/(h**2));\n",
    "endfunction\n",
    "function [c] = derivada3(f, h)\n",
    "    m = ceil(length(f)/2);\n",
    "    c = return((f(m+2) - 2*f(m+1) + 2*f(m-1) - f(m-2))/(2*h**3));\n",
    "endfunction\n",
    "function [c] = derivada4(f, h)\n",
    "    m = ceil(length(f)/2);\n",
    "    c = return((f(m+2) - 4*f(m+1) + 6*f(m) - 4*f(m-1) + f(m-2))/(h**4));\n",
    "endfunction\n",
    "\n",
    "f = [1.7, 1.869, 2.037];\n",
    "disp(derivada1(f, 0.1));"
   ]
  },
  {
   "cell_type": "code",
   "execution_count": 32,
   "id": "01b0e70e",
   "metadata": {},
   "outputs": [
    {
     "name": "stdout",
     "output_type": "stream",
     "text": [
      "\u001b[4l\u001b[0m\u001b[0m\u001b[4l\u001b[0m\u001b[0m\u001b[4l\u001b[0m\u001b[0m\u001b[4l\u001b[0m\n",
      "\u001b[0m\u001b[4l\u001b[0m\n",
      "\u001b[0m\u001b[4l\u001b[0m\n",
      "   3.2600000\n",
      "\n",
      "\u001b[0m\u001b[4l\u001b[0m\n",
      "\u001b[0m\u001b[4l\u001b[0m\u001b[0m\u001b[4l\u001b[0m\u001b[0m\u001b[4l\u001b[0m\u001b[0m\u001b[4l\u001b[0m\n",
      "\u001b[0m\u001b[4l\u001b[0m\n",
      "\u001b[0m\u001b[4l\u001b[0m\n",
      "\u001b[0m\u001b[4l\u001b[0m\n",
      "   0.7853982\n",
      "\n",
      "\u001b[0m"
     ]
    }
   ],
   "source": [
    "function [c] = trapezios(f, h)\n",
    "    T = (h/2)*(f(1) + 2*sum(f(2:length(f)-1)) + f(length(f)))\n",
    "    c = return(T);\n",
    "endfunction\n",
    "v = [4.2, 7.5, 9.0, 10.5, 7.0];\n",
    "disp(trapezios(v, 0.1));\n",
    "\n",
    "function [c] = simpson(f, h)\n",
    "    S = (h/3)*(f(1) + 4*(sum(f(2:2:(length(f)-1)))) + 2*(sum(f(3:2:(length(f)-1)))) + f(length(f)));\n",
    "    c = return(S);\n",
    "endfunction\n",
    "deff('y=f(x)', 'y = 1/(1+x**2)');\n",
    "A = calcula_pontos(f, 0:0.1:1);\n",
    "disp(simpson(A, 0.1));"
   ]
  }
 ],
 "metadata": {
  "kernelspec": {
   "display_name": "Scilab",
   "language": "scilab",
   "name": "scilab"
  },
  "language_info": {
   "file_extension": ".sci",
   "help_links": [
    {
     "text": "MetaKernel Magics",
     "url": "https://metakernel.readthedocs.io/en/latest/source/README.html"
    }
   ],
   "mimetype": "text/x-octave",
   "name": "octave",
   "version": "0.9.10"
  }
 },
 "nbformat": 4,
 "nbformat_minor": 5
}
